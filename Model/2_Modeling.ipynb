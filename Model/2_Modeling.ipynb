{
  "cells": [
    {
      "cell_type": "code",
      "source": [
        "from google.colab import drive\n",
        "drive.mount('/content/drive')"
      ],
      "metadata": {
        "id": "vgnFR8HDoYhD"
      },
      "execution_count": null,
      "outputs": []
    },
    {
      "cell_type": "code",
      "execution_count": null,
      "metadata": {
        "id": "Y8Q_Ot57Qi5L"
      },
      "outputs": [],
      "source": [
        "import gc\n",
        "gc.collect()"
      ]
    },
    {
      "cell_type": "markdown",
      "metadata": {
        "id": "lhuRISIx284N"
      },
      "source": [
        "# SetUp"
      ]
    },
    {
      "cell_type": "code",
      "execution_count": null,
      "metadata": {
        "id": "8srldb4-96I1"
      },
      "outputs": [],
      "source": [
        "!pip install -q -U -r requirements.txt\n",
        "# !pip install -q -U keras-cv"
      ]
    },
    {
      "cell_type": "markdown",
      "metadata": {
        "id": "HMu-SR_a3K-p"
      },
      "source": [
        "# Import Required Packages"
      ]
    },
    {
      "cell_type": "code",
      "execution_count": null,
      "metadata": {
        "id": "GLsmw_Jy222j"
      },
      "outputs": [],
      "source": [
        "import os\n",
        "import numpy as np\n",
        "import matplotlib.pyplot as plt\n",
        "import pandas as pd\n",
        "import seaborn as sns\n",
        "from collections import defaultdict\n",
        "import numpy as np\n",
        "from PIL import Image\n",
        "import shutil\n",
        "from tqdm import tqdm\n",
        "import random\n",
        "\n",
        "import tensorflow as tf\n",
        "import keras_tuner as kt\n",
        "from tensorflow.keras import layers, models, applications, optimizers\n",
        "from sklearn.metrics import classification_report, confusion_matrix, roc_auc_score, roc_curve, accuracy_score, precision_score, recall_score, f1_score\n"
      ]
    },
    {
      "cell_type": "markdown",
      "metadata": {
        "id": "UG80GCTg3Ugv"
      },
      "source": [
        "# Constants"
      ]
    },
    {
      "cell_type": "code",
      "execution_count": null,
      "metadata": {
        "id": "Ga_4dhEC3VUz"
      },
      "outputs": [],
      "source": [
        "DIR_PATH = '/content/drive/MyDrive/Colab Notebooks/'\n",
        "TEST_DATA_DIR = DIR_PATH + \"test_dataset/\"\n",
        "TRAIN_DATA_DIR = DIR_PATH + \"train_dataset/\"\n",
        "AUGMENTED_DIR = DIR_PATH + \"augmented_train_dataset\"\n",
        "AUTOTUNE = tf.data.AUTOTUNE\n",
        "\n",
        "IMG_SIZE = (75, 75)\n",
        "INPUT_SHAPE = IMG_SIZE + (3,)\n",
        "EPOCHS = 50\n",
        "BATCH_SIZE = 32\n",
        "BUFFER_SIZE = 100\n",
        "\n",
        "# Constants\n"
      ]
    },
    {
      "cell_type": "markdown",
      "metadata": {
        "id": "Ihqslk9Z3xTt"
      },
      "source": [
        "# Load Augmented and Test Data"
      ]
    },
    {
      "cell_type": "code",
      "execution_count": null,
      "metadata": {
        "id": "75rebDeg3zVW"
      },
      "outputs": [],
      "source": [
        "# Load datasets\n",
        "train_ds = tf.keras.preprocessing.image_dataset_from_directory(\n",
        "    AUGMENTED_DIR,\n",
        "    validation_split=0.2,\n",
        "    subset=\"training\",\n",
        "    seed=42,\n",
        "    image_size=IMG_SIZE,\n",
        "    batch_size=BATCH_SIZE,\n",
        "    label_mode='binary'\n",
        ")\n",
        "\n",
        "val_ds = tf.keras.preprocessing.image_dataset_from_directory(\n",
        "    AUGMENTED_DIR,\n",
        "    validation_split=0.2,\n",
        "    subset=\"validation\",\n",
        "    seed=42,\n",
        "    image_size=IMG_SIZE,\n",
        "    batch_size=BATCH_SIZE,\n",
        "    label_mode='binary'\n",
        ")\n",
        "\n",
        "test_ds = tf.keras.preprocessing.image_dataset_from_directory(\n",
        "    TEST_DATA_DIR,\n",
        "    image_size=IMG_SIZE,\n",
        "    batch_size=BATCH_SIZE,\n",
        "    shuffle=False  # Keep order for metrics/report\n",
        ")"
      ]
    },
    {
      "cell_type": "code",
      "execution_count": null,
      "metadata": {
        "id": "MrsDDkp46Rj7"
      },
      "outputs": [],
      "source": [
        "num_classes = len(train_ds.class_names)\n",
        "num_classes"
      ]
    },
    {
      "cell_type": "markdown",
      "metadata": {
        "id": "MrCtdiRj6EVu"
      },
      "source": [
        "# Preprocessing Dataset\n",
        "- convert image to grayscale\n",
        "- Rescale: rescale pixel values\n",
        "- Resize:  images to a consistent shape (with tf.keras.layers.Resizing)"
      ]
    },
    {
      "cell_type": "code",
      "execution_count": null,
      "metadata": {
        "id": "yFEshNNQ6FAJ"
      },
      "outputs": [],
      "source": [
        "# Define normalization transformation\n",
        "def normalization(image, label):\n",
        "    # Apply Rescaling (normalize)\n",
        "    rescale = tf.keras.layers.Rescaling(1./255)\n",
        "    image = rescale(image)\n",
        "    return image, label"
      ]
    },
    {
      "cell_type": "code",
      "execution_count": null,
      "metadata": {
        "id": "eLljIhLI6H0n"
      },
      "outputs": [],
      "source": [
        "# Apply transformation\n",
        "train_ds = train_ds.map(normalization, num_parallel_calls=AUTOTUNE).cache().prefetch(buffer_size=AUTOTUNE)\n",
        "val_ds   = val_ds.map(normalization, num_parallel_calls=AUTOTUNE).cache().prefetch(buffer_size=AUTOTUNE)\n",
        "test_ds  = test_ds.map(normalization, num_parallel_calls=AUTOTUNE).prefetch(buffer_size=AUTOTUNE)"
      ]
    },
    {
      "cell_type": "code",
      "execution_count": null,
      "metadata": {
        "id": "2pYGwT947HMC"
      },
      "outputs": [],
      "source": [
        "# Verify that the pixels are in the [0, 1] range:\n",
        "for images, labels in test_ds.take(1):\n",
        "    print(\"Min pixel value:\", tf.reduce_min(images).numpy())\n",
        "    print(\"Max pixel value:\", tf.reduce_max(images).numpy())"
      ]
    },
    {
      "cell_type": "code",
      "execution_count": null,
      "metadata": {
        "id": "2mPaXFOr7InL"
      },
      "outputs": [],
      "source": [
        "print(\"Image shape:\", images.shape)"
      ]
    },
    {
      "cell_type": "markdown",
      "metadata": {
        "id": "ua98uZC87fAE"
      },
      "source": [
        "# Hyperparameter Tuning\n",
        "## set up a hypermodel\n",
        "\n",
        "Hyperparamerters:\n",
        "\n",
        "- Number of filters in each Conv2D layer\n",
        "- Dropout rate\n",
        "- Dense layer units\n",
        "- Learning rate\n",
        "- Optimizer"
      ]
    },
    {
      "cell_type": "code",
      "execution_count": null,
      "metadata": {
        "id": "6-IxYR6S6A10"
      },
      "outputs": [],
      "source": [
        "early_stop = tf.keras.callbacks.EarlyStopping(monitor='val_loss', patience=3, restore_best_weights=True)\n",
        "\n",
        "# Define model checkpoint callback\n",
        "def create_checkpoint_callback(model_name):\n",
        "    checkpoint_cb = tf.keras.callbacks.ModelCheckpoint(\n",
        "        filepath=checkpoint_path,\n",
        "        monitor='val_loss',   # or 'val_accuracy' depending on your goal\n",
        "        save_best_only=True,\n",
        "        save_weights_only=False,\n",
        "        mode='min',           # or 'max' if you're monitoring accuracy\n",
        "        verbose=1\n",
        "    )\n",
        "    return checkpoint_cb"
      ]
    },
    {
      "cell_type": "markdown",
      "metadata": {
        "id": "u3dgrvHp7ikL"
      },
      "source": [
        "## 1. Define Baseline Model: CNN"
      ]
    },
    {
      "cell_type": "code",
      "execution_count": null,
      "metadata": {
        "id": "CigDHtCx7h_d"
      },
      "outputs": [],
      "source": [
        "def build_cnn_model_tuning(hp):\n",
        "    model = tf.keras.Sequential()\n",
        "    model.add(tf.keras.layers.Input(shape=(IMG_SIZE[0], IMG_SIZE[1], 3))) # Input Layer (Grayscale to 1 channel)\n",
        "\n",
        "    # Conv Layers\n",
        "    for i in range(3):\n",
        "        model.add(tf.keras.layers.Conv2D(\n",
        "            filters=hp.Int(f'conv_{i}_filters', min_value=32, max_value=256, step=32),\n",
        "            kernel_size=hp.Choice('kernel_size', [3, 5]),\n",
        "            activation='relu',\n",
        "            padding='same'))\n",
        "        model.add(tf.keras.layers.BatchNormalization())\n",
        "        model.add(tf.keras.layers.MaxPooling2D())\n",
        "\n",
        "    # Dropout\n",
        "    model.add(tf.keras.layers.Dropout(hp.Float('dropout_rate', 0.2, 0.5, step=0.1)))\n",
        "\n",
        "    # Flatten or GAP\n",
        "    model.add(tf.keras.layers.GlobalAveragePooling2D())\n",
        "\n",
        "    # Dense Layer\n",
        "    model.add(tf.keras.layers.Dense(units=hp.Int('dense_units',  min_value=32, max_value=256, step=64),\n",
        "                                    activation='relu',kernel_regularizer=tf.keras.regularizers.l2(0.001),\n",
        "))\n",
        "    model.add(tf.keras.layers.Dropout(hp.Float('dense_dropout', 0.2, 0.5, step=0.1)))\n",
        "\n",
        "    # Output Layer\n",
        "    model.add(tf.keras.layers.Dense(1, activation='sigmoid'))\n",
        "\n",
        "    # Compile\n",
        "    model.compile(\n",
        "        optimizer=hp.Choice('optimizer', ['adam']),\n",
        "        loss='binary_crossentropy',\n",
        "        metrics=['accuracy']\n",
        "    )\n",
        "\n",
        "    return model\n"
      ]
    },
    {
      "cell_type": "markdown",
      "metadata": {
        "id": "bJRVkcH73SKh"
      },
      "source": [
        "## Hyperband tuner"
      ]
    },
    {
      "cell_type": "code",
      "execution_count": null,
      "metadata": {
        "id": "F4kExesP3TCe"
      },
      "outputs": [],
      "source": [
        "def run_tuner(model_name, build_model):\n",
        "  hyperband_tuner = kt.Hyperband(\n",
        "      build_model,\n",
        "      objective='val_accuracy',\n",
        "      max_epochs=EPOCHS,\n",
        "      factor=3,\n",
        "      executions_per_trial=1,\n",
        "      hyperband_iterations=1,\n",
        "      directory='tuner_dir',\n",
        "      project_name=model_name,\n",
        "      overwrite=True\n",
        "      )\n",
        "  return hyperband_tuner"
      ]
    },
    {
      "cell_type": "markdown",
      "metadata": {
        "id": "GpGcuKRsStQi"
      },
      "source": [
        "## 2. Define Transfer Learning Models"
      ]
    },
    {
      "cell_type": "code",
      "execution_count": null,
      "metadata": {
        "id": "CCCXTR6nSs2Q"
      },
      "outputs": [],
      "source": [
        "def build_tl_model(base_model):\n",
        "    def build_transfer_model(hp):\n",
        "\n",
        "        base_model.trainable = hp.Boolean('fine_tune', default=False)\n",
        "\n",
        "        model = tf.keras.models.Sequential([\n",
        "            base_model,\n",
        "            tf.keras.layers.GlobalAveragePooling2D(),\n",
        "            tf.keras.layers.Dense(units=hp.Int('dense_units',  min_value=32, max_value=256, step=64),\n",
        "                                    activation='relu',kernel_regularizer=tf.keras.regularizers.l2(0.001)),\n",
        "            tf.keras.layers.Dropout(hp.Float('dense_dropout', 0.2, 0.5, step=0.1)),\n",
        "            tf.keras.layers.Dense(1, activation='sigmoid')\n",
        "        ])\n",
        "\n",
        "        # Compile\n",
        "        model.compile(\n",
        "            optimizer=hp.Choice('optimizer', ['adam']),\n",
        "            loss='binary_crossentropy',\n",
        "            metrics=['accuracy']\n",
        "        )\n",
        "\n",
        "        return model\n",
        "    return build_transfer_model\n"
      ]
    },
    {
      "cell_type": "markdown",
      "metadata": {
        "id": "a1FYPkFpbPaE"
      },
      "source": [
        "## Define Model Evaluation"
      ]
    },
    {
      "cell_type": "code",
      "execution_count": null,
      "metadata": {
        "id": "0mVOCuySbOKI"
      },
      "outputs": [],
      "source": [
        "def model_evaluation(best_model, results, model_name):\n",
        "    test_preds = best_model.predict(test_ds)\n",
        "\n",
        "    # Handle binary vs. multi-class prediction\n",
        "    if test_preds.shape[-1] == 1:\n",
        "        # Binary classification\n",
        "        test_preds = test_preds.flatten()\n",
        "        test_preds_label = (test_preds > 0.5).astype(int)\n",
        "    else:\n",
        "        # Multi-class classification\n",
        "        test_preds_label = np.argmax(test_preds, axis=1)\n",
        "\n",
        "    # Get true labels\n",
        "    test_labels = np.concatenate([y.numpy() for x, y in test_ds])\n",
        "\n",
        "    # Ensure matching lengths\n",
        "    assert test_labels.shape[0] == test_preds_label.shape[0], f\"Mismatched: {test_labels.shape} vs {test_preds_label.shape}\"\n",
        "\n",
        "    # Compute metrics\n",
        "    acc = accuracy_score(test_labels, test_preds_label)\n",
        "    prec = precision_score(test_labels, test_preds_label, average='binary' if len(np.unique(test_labels)) == 2 else 'macro')\n",
        "    rec = recall_score(test_labels, test_preds_label, average='binary' if len(np.unique(test_labels)) == 2 else 'macro')\n",
        "    f1 = f1_score(test_labels, test_preds_label, average='binary' if len(np.unique(test_labels)) == 2 else 'macro')\n",
        "    auc = roc_auc_score(test_labels, test_preds if test_preds.ndim == 1 else test_preds[:,1])\n",
        "\n",
        "    # Print classification report\n",
        "    print(f\"Model: {model_name}\")\n",
        "    print(classification_report(test_labels, test_preds_label))\n",
        "\n",
        "    # Confusion matrix\n",
        "    plt.figure(figsize=(6, 5))\n",
        "    sns.heatmap(confusion_matrix(test_labels, test_preds_label), annot=True, fmt='d', cmap='Blues')\n",
        "    plt.title(f\"Confusion Matrix - {model_name}\")\n",
        "    plt.xlabel('Predicted')\n",
        "    plt.ylabel('True')\n",
        "    plt.show()\n",
        "\n",
        "    # ROC Curve\n",
        "    fpr, tpr, _ = roc_curve(test_labels, test_preds if test_preds.ndim == 1 else test_preds[:,1])\n",
        "    plt.figure()\n",
        "    plt.plot(fpr, tpr, label=f'{model_name} (AUC = {auc:.2f})')\n",
        "    plt.plot([0, 1], [0, 1], 'k--')\n",
        "    plt.xlabel('False Positive Rate')\n",
        "    plt.ylabel('True Positive Rate')\n",
        "    plt.title('ROC Curve')\n",
        "    plt.legend(loc='lower right')\n",
        "    plt.grid(True)\n",
        "    plt.show()\n",
        "\n",
        "    # Save results\n",
        "    results[model_name] = {\n",
        "        \"accuracy\": acc,\n",
        "        \"precision\": prec,\n",
        "        \"recall\": rec,\n",
        "        \"f1\": f1,\n",
        "        \"auc\": auc\n",
        "    }\n",
        "\n",
        "    return results"
      ]
    },
    {
      "cell_type": "markdown",
      "metadata": {
        "id": "jlxJ-gWuXUuU"
      },
      "source": [
        "# Model Training and Evaluation"
      ]
    },
    {
      "cell_type": "code",
      "execution_count": null,
      "metadata": {
        "id": "2_uPpURXb83Y"
      },
      "outputs": [],
      "source": [
        "results = {}"
      ]
    },
    {
      "cell_type": "markdown",
      "metadata": {
        "id": "zE3QvAdvXtyS"
      },
      "source": [
        "## 1. Baseline Model: AlexNet"
      ]
    },
    {
      "cell_type": "code",
      "source": [
        "model_name = \"CNN/AlexNet\""
      ],
      "metadata": {
        "id": "SrsaxJLKLhnA"
      },
      "execution_count": null,
      "outputs": []
    },
    {
      "cell_type": "code",
      "execution_count": null,
      "metadata": {
        "id": "gdjuZdrGErfG"
      },
      "outputs": [],
      "source": [
        "hyperband_tuner = run_tuner(model_name, build_cnn_model_tuning)\n",
        "\n",
        "checkpoint_path = f\"{DIR_PATH}saved_models/best_checkpoint_{model_name}.h5\"\n",
        "checkpoint_cb = create_checkpoint_callback(model_name)\n",
        "\n",
        "# Run Search\n",
        "history = hyperband_tuner.search(train_ds, validation_data=val_ds, epochs=EPOCHS, callbacks=[early_stop, checkpoint_cb])\n",
        "\n",
        "# Train Best Model\n",
        "cnn_best_hps = hyperband_tuner.get_best_hyperparameters(num_trials=1)[0]\n",
        "\n",
        "cnn_best_model = hyperband_tuner.hypermodel.build(cnn_best_hps)\n",
        "cnn_best_model.summary()\n",
        "\n",
        "## Save Best Model\n",
        "cnn_best_model.save(f\"{DIR_PATH}saved_models/best_model_{model_name}.h5\")"
      ]
    },
    {
      "cell_type": "code",
      "source": [
        "# Retrieve Best Hyperparameters\n",
        "print(f\"Best Hyperparameters for {model_name.upper()}:\")\n",
        "best_hps = cnn_best_hps.values"
      ],
      "metadata": {
        "id": "XLMp0GZjZR9O"
      },
      "execution_count": null,
      "outputs": []
    },
    {
      "cell_type": "code",
      "source": [
        "#### Plot Accuracy and Loss Curves\n",
        "acc = history.history['accuracy']\n",
        "val_acc = history.history['val_accuracy']\n",
        "loss = history.history['loss']\n",
        "val_loss = history.history['val_loss']\n",
        "epochs_range = range(len(acc))\n",
        "\n",
        "plt.figure(figsize=(12,4))\n",
        "plt.subplot(1,2,1)\n",
        "plt.plot(epochs_range, acc, label='Train Acc')\n",
        "plt.plot(epochs_range, val_acc, label='Val Acc')\n",
        "plt.title(f'{model_name} Accuracy')\n",
        "plt.legend()\n",
        "\n",
        "plt.subplot(1,2,2)\n",
        "plt.plot(epochs_range, loss, label='Train Loss')\n",
        "plt.plot(epochs_range, val_loss, label='Val Loss')\n",
        "plt.title(f'{model_name} Loss')\n",
        "plt.legend()\n",
        "plt.tight_layout()\n",
        "plt.show()"
      ],
      "metadata": {
        "id": "NkhR06oQgMn6"
      },
      "execution_count": null,
      "outputs": []
    },
    {
      "cell_type": "code",
      "source": [
        "# Model Evaluation\n",
        "results = model_evaluation(cnn_best_model,results,model_name)"
      ],
      "metadata": {
        "id": "h3r9TnNFc6aO"
      },
      "execution_count": null,
      "outputs": []
    },
    {
      "cell_type": "markdown",
      "metadata": {
        "id": "GCkxPGtsSUtp"
      },
      "source": [
        "## 2. VGG16"
      ]
    },
    {
      "cell_type": "code",
      "source": [
        "model_name = \"VGG16\""
      ],
      "metadata": {
        "id": "UvL0SLBxN07d"
      },
      "execution_count": null,
      "outputs": []
    },
    {
      "cell_type": "code",
      "source": [
        "base_model = applications.VGG16(weights='imagenet', include_top=False, input_shape=(IMG_SIZE[0], IMG_SIZE[1], 3))"
      ],
      "metadata": {
        "id": "sJOrJ3kehKA7"
      },
      "execution_count": null,
      "outputs": []
    },
    {
      "cell_type": "code",
      "source": [
        "\n",
        "# Get a Keras Tuner-compatible model builder\n",
        "model_builder = build_tl_model(base_model)\n",
        "hyperband_tuner = run_tuner(model_name, model_builder)\n",
        "\n",
        "# Run Search\n",
        "history = hyperband_tuner.search(train_ds, validation_data=val_ds, epochs=EPOCHS, callbacks=[early_stop, checkpoint_cb])\n",
        "\n",
        "# Train Best Model\n",
        "vgg16_best_hps = hyperband_tuner.get_best_hyperparameters(num_trials=1)[0]\n",
        "\n",
        "vgg16_best_model = hyperband_tuner.hypermodel.build(vgg16_best_hps)\n",
        "vgg16_best_model.summary()\n",
        "\n",
        "## Save Best Model\n",
        "vgg16_best_model.save(f\"saved_models/best_model_{model_name}.h5\")"
      ],
      "metadata": {
        "id": "h6XXeu_waPjL"
      },
      "execution_count": null,
      "outputs": []
    },
    {
      "cell_type": "code",
      "source": [
        "# Retrieve Best Hyperparameters\n",
        "print(f\"Best Hyperparameters for {model_name.upper()}:\")\n",
        "print(vgg16_best_hps.values)"
      ],
      "metadata": {
        "id": "My9o9ZVRfMup"
      },
      "execution_count": null,
      "outputs": []
    },
    {
      "cell_type": "code",
      "source": [
        "#### Plot Accuracy and Loss Curves\n",
        "acc = history.history['accuracy']\n",
        "val_acc = history.history['val_accuracy']\n",
        "loss = history.history['loss']\n",
        "val_loss = history.history['val_loss']\n",
        "epochs_range = range(len(acc))\n",
        "\n",
        "plt.figure(figsize=(12,4))\n",
        "plt.subplot(1,2,1)\n",
        "plt.plot(epochs_range, acc, label='Train Acc')\n",
        "plt.plot(epochs_range, val_acc, label='Val Acc')\n",
        "plt.title(f'{model_name} Accuracy')\n",
        "plt.legend()\n",
        "\n",
        "plt.subplot(1,2,2)\n",
        "plt.plot(epochs_range, loss, label='Train Loss')\n",
        "plt.plot(epochs_range, val_loss, label='Val Loss')\n",
        "plt.title(f'{model_name} Loss')\n",
        "plt.legend()\n",
        "plt.tight_layout()\n",
        "plt.show()"
      ],
      "metadata": {
        "id": "QngInkkyf9eP"
      },
      "execution_count": null,
      "outputs": []
    },
    {
      "cell_type": "code",
      "source": [
        "# Model Evaluation\n",
        "results = model_evaluation(vgg16_best_model, results, model_name)"
      ],
      "metadata": {
        "id": "zdDOs9pcaUyl"
      },
      "execution_count": null,
      "outputs": []
    },
    {
      "cell_type": "markdown",
      "metadata": {
        "id": "GveS99Qya95I"
      },
      "source": [
        "## 3. ResNet50"
      ]
    },
    {
      "cell_type": "code",
      "execution_count": null,
      "metadata": {
        "id": "gGxV1pBh_jcU"
      },
      "outputs": [],
      "source": [
        "# Define constants\n",
        "model_name = \"ResNet50\"\n",
        "base_model = applications.ResNet50(weights='imagenet', include_top=False, input_shape=(IMG_SIZE[0], IMG_SIZE[1], 3))"
      ]
    },
    {
      "cell_type": "code",
      "execution_count": null,
      "metadata": {
        "id": "suZiYjhaAM8e"
      },
      "outputs": [],
      "source": [
        "# Get a Keras Tuner-compatible model builder\n",
        "model_builder = build_tl_model(base_model)\n",
        "hyperband_tuner = run_tuner(model_name, model_builder)\n",
        "\n",
        "# Run Search\n",
        "history = hyperband_tuner.search(train_ds, validation_data=val_ds, epochs=EPOCHS, callbacks=[early_stop, checkpoint_cb])\n",
        "\n",
        "# Train Best Model\n",
        "restnet50_best_hps = hyperband_tuner.get_best_hyperparameters(num_trials=1)[0]\n",
        "\n",
        "restnet50_best_model = hyperband_tuner.hypermodel.build(restnet50_best_hps)\n",
        "restnet50_best_model.summary()\n",
        "\n",
        "## Save Best Model\n",
        "restnet50_best_model.save(f\"saved_models/best_model_{model_name}.h5\")"
      ]
    },
    {
      "cell_type": "code",
      "execution_count": null,
      "metadata": {
        "id": "HYSyvObKMqeJ"
      },
      "outputs": [],
      "source": [
        "# Retrieve Best Hyperparameters\n",
        "print(f\"Best Hyperparameters for {model_name.upper()}:\")\n",
        "print(restnet50_best_hps.values)"
      ]
    },
    {
      "cell_type": "code",
      "source": [
        "#### Plot Accuracy and Loss Curves\n",
        "acc = history.history['accuracy']\n",
        "val_acc = history.history['val_accuracy']\n",
        "loss = history.history['loss']\n",
        "val_loss = history.history['val_loss']\n",
        "epochs_range = range(len(acc))\n",
        "\n",
        "plt.figure(figsize=(12,4))\n",
        "plt.subplot(1,2,1)\n",
        "plt.plot(epochs_range, acc, label='Train Acc')\n",
        "plt.plot(epochs_range, val_acc, label='Val Acc')\n",
        "plt.title(f'{model_name} Accuracy')\n",
        "plt.legend()\n",
        "\n",
        "plt.subplot(1,2,2)\n",
        "plt.plot(epochs_range, loss, label='Train Loss')\n",
        "plt.plot(epochs_range, val_loss, label='Val Loss')\n",
        "plt.title(f'{model_name} Loss')\n",
        "plt.legend()\n",
        "plt.tight_layout()\n",
        "plt.show()"
      ],
      "metadata": {
        "id": "G-JQSNj0i4Wy"
      },
      "execution_count": null,
      "outputs": []
    },
    {
      "cell_type": "code",
      "execution_count": null,
      "metadata": {
        "id": "aDn3N2dONNn2"
      },
      "outputs": [],
      "source": [
        "# Model Evaluation\n",
        "results = model_evaluation(restnet50_best_model, results, model_name)"
      ]
    },
    {
      "cell_type": "markdown",
      "metadata": {
        "id": "Hn4-qW72ckQn"
      },
      "source": [
        "## 4. InceptionV3"
      ]
    },
    {
      "cell_type": "code",
      "execution_count": null,
      "metadata": {
        "id": "ri3Boco2coSJ"
      },
      "outputs": [],
      "source": [
        "model_name = \"InceptionV3\"\n",
        "base_model = applications.InceptionV3(weights='imagenet', include_top=False, input_shape=(IMG_SIZE[0], IMG_SIZE[1], 3))"
      ]
    },
    {
      "cell_type": "code",
      "source": [
        "# Get a Keras Tuner-compatible model builder\n",
        "model_builder = build_tl_model(base_model)\n",
        "hyperband_tuner = run_tuner(model_name, model_builder)\n",
        "\n",
        "# Run Search\n",
        "history = hyperband_tuner.search(train_ds, validation_data=val_ds, epochs=EPOCHS, callbacks=[early_stop, checkpoint_cb])\n",
        "\n",
        "# Train Best Model\n",
        "InceptionV3_best_hps = hyperband_tuner.get_best_hyperparameters(num_trials=1)[0]\n",
        "\n",
        "InceptionV3_best_model = hyperband_tuner.hypermodel.build(InceptionV3_best_hps)\n",
        "InceptionV3_best_model.summary()\n",
        "\n",
        "## Save Best Model\n",
        "InceptionV3_best_model.save(f\"saved_models/best_model_{model_name}.h5\")"
      ],
      "metadata": {
        "id": "EZXiAY0fjD_x"
      },
      "execution_count": null,
      "outputs": []
    },
    {
      "cell_type": "code",
      "source": [
        "# Retrieve Best Hyperparameters\n",
        "print(f\"Best Hyperparameters for {model_name.upper()}:\")\n",
        "print(InceptionV3_best_hps.values)"
      ],
      "metadata": {
        "id": "Dsd23WIejVvA"
      },
      "execution_count": null,
      "outputs": []
    },
    {
      "cell_type": "code",
      "source": [
        "#### Plot Accuracy and Loss Curves\n",
        "acc = history.history['accuracy']\n",
        "val_acc = history.history['val_accuracy']\n",
        "loss = history.history['loss']\n",
        "val_loss = history.history['val_loss']\n",
        "epochs_range = range(len(acc))\n",
        "\n",
        "plt.figure(figsize=(12,4))\n",
        "plt.subplot(1,2,1)\n",
        "plt.plot(epochs_range, acc, label='Train Acc')\n",
        "plt.plot(epochs_range, val_acc, label='Val Acc')\n",
        "plt.title(f'{model_name} Accuracy')\n",
        "plt.legend()\n",
        "\n",
        "plt.subplot(1,2,2)\n",
        "plt.plot(epochs_range, loss, label='Train Loss')\n",
        "plt.plot(epochs_range, val_loss, label='Val Loss')\n",
        "plt.title(f'{model_name} Loss')\n",
        "plt.legend()\n",
        "plt.tight_layout()\n",
        "plt.show()"
      ],
      "metadata": {
        "id": "pEsKkfZZjsRC"
      },
      "execution_count": null,
      "outputs": []
    },
    {
      "cell_type": "code",
      "source": [
        "# Model Evaluation\n",
        "results = model_evaluation(InceptionV3_best_model, results, model_name)"
      ],
      "metadata": {
        "id": "_6qgkVBwjBFb"
      },
      "execution_count": null,
      "outputs": []
    },
    {
      "cell_type": "markdown",
      "metadata": {
        "id": "1cHlgB4NdC29"
      },
      "source": [
        "## 5. EfficientNetB0"
      ]
    },
    {
      "cell_type": "code",
      "source": [
        "model_name = \"EfficientNetB0\"\n",
        "base_model = applications.EfficientNetB0(weights='imagenet', include_top=False, input_shape=(IMG_SIZE[0], IMG_SIZE[1], 3))"
      ],
      "metadata": {
        "id": "KEPYgMEQjyRU"
      },
      "execution_count": null,
      "outputs": []
    },
    {
      "cell_type": "code",
      "source": [
        "# Get a Keras Tuner-compatible model builder\n",
        "model_builder = build_tl_model(base_model)\n",
        "hyperband_tuner = run_tuner(model_name, model_builder)\n",
        "\n",
        "# Run Search\n",
        "history = hyperband_tuner.search(train_ds, validation_data=val_ds, epochs=EPOCHS, callbacks=[early_stop, checkpoint_cb])\n",
        "\n",
        "# Train Best Model\n",
        "EfficientNetB0_best_hps = hyperband_tuner.get_best_hyperparameters(num_trials=1)[0]\n",
        "\n",
        "EfficientNetB0_best_model = hyperband_tuner.hypermodel.build(EfficientNetB0_best_hps)\n",
        "EfficientNetB0_best_model.summary()\n",
        "\n",
        "## Save Best Model\n",
        "EfficientNetB0_best_model.save(f\"saved_models/best_model_{model_name}.h5\")\n"
      ],
      "metadata": {
        "id": "ZrAuV7EQlP1E"
      },
      "execution_count": null,
      "outputs": []
    },
    {
      "cell_type": "code",
      "source": [
        "# Retrieve Best Hyperparameters\n",
        "print(f\"Best Hyperparameters for {model_name.upper()}:\")\n",
        "print(EfficientNetB0_best_hps.values)"
      ],
      "metadata": {
        "id": "kXtQnHCllb7b"
      },
      "execution_count": null,
      "outputs": []
    },
    {
      "cell_type": "code",
      "source": [
        "#### Plot Accuracy and Loss Curves\n",
        "acc = history.history['accuracy']\n",
        "val_acc = history.history['val_accuracy']\n",
        "loss = history.history['loss']\n",
        "val_loss = history.history['val_loss']\n",
        "epochs_range = range(len(acc))\n",
        "\n",
        "plt.figure(figsize=(12,4))\n",
        "plt.subplot(1,2,1)\n",
        "plt.plot(epochs_range, acc, label='Train Acc')\n",
        "plt.plot(epochs_range, val_acc, label='Val Acc')\n",
        "plt.title(f'{model_name} Accuracy')\n",
        "plt.legend()\n",
        "\n",
        "plt.subplot(1,2,2)\n",
        "plt.plot(epochs_range, loss, label='Train Loss')\n",
        "plt.plot(epochs_range, val_loss, label='Val Loss')\n",
        "plt.title(f'{model_name} Loss')\n",
        "plt.legend()\n",
        "plt.tight_layout()\n",
        "plt.show()"
      ],
      "metadata": {
        "id": "5eXRwpQFlnS9"
      },
      "execution_count": null,
      "outputs": []
    },
    {
      "cell_type": "code",
      "source": [
        "# Model Evaluation\n",
        "results = model_evaluation(EfficientNetB0_best_model, results, model_name)"
      ],
      "metadata": {
        "id": "1RUn6xvQlogD"
      },
      "execution_count": null,
      "outputs": []
    },
    {
      "cell_type": "markdown",
      "metadata": {
        "id": "hKGe4YI6dciQ"
      },
      "source": [
        "## 6. Xception"
      ]
    },
    {
      "cell_type": "code",
      "source": [
        "model_name = \"Xception\"\n",
        "base_model = applications.Xception(weights='imagenet', include_top=False, input_shape=(IMG_SIZE[0], IMG_SIZE[1], 3))"
      ],
      "metadata": {
        "id": "EjphYWxlmX59"
      },
      "execution_count": null,
      "outputs": []
    },
    {
      "cell_type": "code",
      "execution_count": null,
      "metadata": {
        "id": "qIX1yQQsdhQR"
      },
      "outputs": [],
      "source": [
        "# Get a Keras Tuner-compatible model builder\n",
        "model_builder = build_tl_model(base_model)\n",
        "hyperband_tuner = run_tuner(model_name, model_builder)\n",
        "\n",
        "# Run Search\n",
        "history = hyperband_tuner.search(train_ds, validation_data=val_ds, epochs=EPOCHS, callbacks=[early_stop, checkpoint_cb])\n",
        "\n",
        "# Train Best Model\n",
        "xception_best_hps = hyperband_tuner.get_best_hyperparameters(num_trials=1)[0]\n",
        "\n",
        "xception_best_model = hyperband_tuner.hypermodel.build(xception_best_hps)\n",
        "xception_best_model.summary()\n",
        "\n",
        "## Save Best Model\n",
        "xception_best_model.save(f\"saved_models/best_model_{model_name}.h5\")\n"
      ]
    },
    {
      "cell_type": "code",
      "source": [
        "# Retrieve Best Hyperparameters\n",
        "print(f\"Best Hyperparameters for {model_name.upper()}:\")\n",
        "print(xception_best_hps.values)"
      ],
      "metadata": {
        "id": "t1TJv70lmoK0"
      },
      "execution_count": null,
      "outputs": []
    },
    {
      "cell_type": "code",
      "source": [
        "#### Plot Accuracy and Loss Curves\n",
        "acc = history.history['accuracy']\n",
        "val_acc = history.history['val_accuracy']\n",
        "loss = history.history['loss']\n",
        "val_loss = history.history['val_loss']\n",
        "epochs_range = range(len(acc))\n",
        "\n",
        "plt.figure(figsize=(12,4))\n",
        "plt.subplot(1,2,1)\n",
        "plt.plot(epochs_range, acc, label='Train Acc')\n",
        "plt.plot(epochs_range, val_acc, label='Val Acc')\n",
        "plt.title(f'{model_name} Accuracy')\n",
        "plt.legend()\n",
        "\n",
        "plt.subplot(1,2,2)\n",
        "plt.plot(epochs_range, loss, label='Train Loss')\n",
        "plt.plot(epochs_range, val_loss, label='Val Loss')\n",
        "plt.title(f'{model_name} Loss')\n",
        "plt.legend()\n",
        "plt.tight_layout()\n",
        "plt.show()"
      ],
      "metadata": {
        "id": "jK5R4dTzmuPk"
      },
      "execution_count": null,
      "outputs": []
    },
    {
      "cell_type": "code",
      "source": [
        "# Model Evaluation\n",
        "results = model_evaluation(xception_model, results, model_name)"
      ],
      "metadata": {
        "id": "IBQOwuvnmw7h"
      },
      "execution_count": null,
      "outputs": []
    },
    {
      "cell_type": "markdown",
      "metadata": {
        "id": "ydYozObGdycZ"
      },
      "source": [
        "## 7. DenseNet121"
      ]
    },
    {
      "cell_type": "code",
      "source": [
        "model_name = \"DenseNet121\"\n",
        "base_model = applications.DenseNet121(weights='imagenet', include_top=False, input_shape=(IMG_SIZE[0], IMG_SIZE[1], 3))"
      ],
      "metadata": {
        "id": "1nPXsiGZm_IJ"
      },
      "execution_count": null,
      "outputs": []
    },
    {
      "cell_type": "code",
      "source": [
        "# Get a Keras Tuner-compatible model builder\n",
        "model_builder = build_tl_model(base_model)\n",
        "hyperband_tuner = run_tuner(model_name, model_builder)\n",
        "\n",
        "# Run Search\n",
        "history = hyperband_tuner.search(train_ds, validation_data=val_ds, epochs=EPOCHS, callbacks=[early_stop, checkpoint_cb])\n",
        "\n",
        "# Train Best Model\n",
        "DenseNet121_best_hps = hyperband_tuner.get_best_hyperparameters(num_trials=1)[0]\n",
        "\n",
        "DenseNet121_best_model = hyperband_tuner.hypermodel.build(DenseNet121_best_hps)\n",
        "DenseNet121_best_model.summary()\n",
        "\n",
        "## Save Best Model\n",
        "DenseNet121_best_model.save(f\"saved_models/best_model_{model_name}.h5\")"
      ],
      "metadata": {
        "id": "2dd5SoKsnTvw"
      },
      "execution_count": null,
      "outputs": []
    },
    {
      "cell_type": "code",
      "source": [
        "# Retrieve Best Hyperparameters\n",
        "print(f\"Best Hyperparameters for {model_name.upper()}:\")\n",
        "print(DenseNet121_best_hps.values)"
      ],
      "metadata": {
        "id": "TBkRrpcanWEs"
      },
      "execution_count": null,
      "outputs": []
    },
    {
      "cell_type": "code",
      "source": [
        "#### Plot Accuracy and Loss Curves\n",
        "acc = history.history['accuracy']\n",
        "val_acc = history.history['val_accuracy']\n",
        "loss = history.history['loss']\n",
        "val_loss = history.history['val_loss']\n",
        "epochs_range = range(len(acc))\n",
        "\n",
        "plt.figure(figsize=(12,4))\n",
        "plt.subplot(1,2,1)\n",
        "plt.plot(epochs_range, acc, label='Train Acc')\n",
        "plt.plot(epochs_range, val_acc, label='Val Acc')\n",
        "plt.title(f'{model_name} Accuracy')\n",
        "plt.legend()\n",
        "\n",
        "plt.subplot(1,2,2)\n",
        "plt.plot(epochs_range, loss, label='Train Loss')\n",
        "plt.plot(epochs_range, val_loss, label='Val Loss')\n",
        "plt.title(f'{model_name} Loss')\n",
        "plt.legend()\n",
        "plt.tight_layout()\n",
        "plt.show()"
      ],
      "metadata": {
        "id": "YGlNYRt0ndZ6"
      },
      "execution_count": null,
      "outputs": []
    },
    {
      "cell_type": "code",
      "execution_count": null,
      "metadata": {
        "id": "k3mrd2HodyDK"
      },
      "outputs": [],
      "source": [
        "# Model Evaluation\n",
        "results = model_evaluation(DenseNet121_model, results, model_name)"
      ]
    },
    {
      "cell_type": "markdown",
      "metadata": {
        "id": "9ISe61TUeJol"
      },
      "source": [
        "## 8. MobileNetV2"
      ]
    },
    {
      "cell_type": "code",
      "source": [
        "model_name = \"MobileNetV2\"\n",
        "base_model = applications.MobileNetV2(weights='imagenet', include_top=False, input_shape=(IMG_SIZE[0], IMG_SIZE[1], 3))"
      ],
      "metadata": {
        "id": "7jBCrlyCnhVL"
      },
      "execution_count": null,
      "outputs": []
    },
    {
      "cell_type": "code",
      "source": [
        "# Get a Keras Tuner-compatible model builder\n",
        "model_builder = build_tl_model(base_model)\n",
        "hyperband_tuner = run_tuner(model_name, model_builder)\n",
        "\n",
        "# Run Search\n",
        "history = hyperband_tuner.search(train_ds, validation_data=val_ds, epochs=EPOCHS, callbacks=[early_stop, checkpoint_cb])\n",
        "\n",
        "# Train Best Model\n",
        "MobileNetV2_best_hps = hyperband_tuner.get_best_hyperparameters(num_trials=1)[0]\n",
        "\n",
        "MobileNetV2_best_model = hyperband_tuner.hypermodel.build(MobileNetV2_best_hps)\n",
        "MobileNetV2_best_model.summary()\n",
        "\n",
        "## Save Best Model\n",
        "MobileNetV2_best_model.save(f\"saved_models/best_model_{model_name}.h5\")"
      ],
      "metadata": {
        "id": "YHXVIIDPnvzG"
      },
      "execution_count": null,
      "outputs": []
    },
    {
      "cell_type": "code",
      "source": [
        "# Retrieve Best Hyperparameters\n",
        "print(f\"Best Hyperparameters for {model_name.upper()}:\")\n",
        "print(MobileNetV2_best_hps.values)"
      ],
      "metadata": {
        "id": "Lt2hQ9eSnx9F"
      },
      "execution_count": null,
      "outputs": []
    },
    {
      "cell_type": "code",
      "execution_count": null,
      "metadata": {
        "id": "Hei8BncQeP5C"
      },
      "outputs": [],
      "source": [
        "#### Plot Accuracy and Loss Curves\n",
        "acc = history.history['accuracy']\n",
        "val_acc = history.history['val_accuracy']\n",
        "loss = history.history['loss']\n",
        "val_loss = history.history['val_loss']\n",
        "epochs_range = range(len(acc))\n",
        "\n",
        "plt.figure(figsize=(12,4))\n",
        "plt.subplot(1,2,1)\n",
        "plt.plot(epochs_range, acc, label='Train Acc')\n",
        "plt.plot(epochs_range, val_acc, label='Val Acc')\n",
        "plt.title(f'{model_name} Accuracy')\n",
        "plt.legend()\n",
        "\n",
        "plt.subplot(1,2,2)\n",
        "plt.plot(epochs_range, loss, label='Train Loss')\n",
        "plt.plot(epochs_range, val_loss, label='Val Loss')\n",
        "plt.title(f'{model_name} Loss')\n",
        "plt.legend()\n",
        "plt.tight_layout()\n",
        "plt.show()"
      ]
    },
    {
      "cell_type": "code",
      "source": [
        "# Model Evaluation\n",
        "results = model_evaluation(MobileNetV2_model, results, model_name)"
      ],
      "metadata": {
        "id": "cg-KIF0Sn4R_"
      },
      "execution_count": null,
      "outputs": []
    },
    {
      "cell_type": "markdown",
      "metadata": {
        "id": "Nnx8d8pLeWsK"
      },
      "source": [
        "## 9. NASNetMobile"
      ]
    },
    {
      "cell_type": "code",
      "source": [
        "model_name = \"NASNetMobile\"\n",
        "base_model = applications.NASNetMobile(weights='imagenet', include_top=False, input_shape=(IMG_SIZE[0], IMG_SIZE[1], 3))"
      ],
      "metadata": {
        "id": "-YYWtoGQn7ge"
      },
      "execution_count": null,
      "outputs": []
    },
    {
      "cell_type": "code",
      "source": [
        "# Get a Keras Tuner-compatible model builder\n",
        "model_builder = build_tl_model(base_model)\n",
        "hyperband_tuner = run_tuner(model_name, model_builder)\n",
        "\n",
        "# Run Search\n",
        "history = hyperband_tuner.search(train_ds, validation_data=val_ds, epochs=EPOCHS, callbacks=[early_stop, checkpoint_cb])\n",
        "\n",
        "# Train Best Model\n",
        "NASNetMobile_best_hps = hyperband_tuner.get_best_hyperparameters(num_trials=1)[0]\n",
        "\n",
        "NASNetMobile_best_model = hyperband_tuner.hypermodel.build(NASNetMobile_best_hps)\n",
        "NASNetMobile_best_model.summary()\n",
        "\n",
        "## Save Best Model\n",
        "NASNetMobile_best_model.save(f\"saved_models/best_model_{model_name}.h5\")"
      ],
      "metadata": {
        "id": "Mb5arMEFoJjo"
      },
      "execution_count": null,
      "outputs": []
    },
    {
      "cell_type": "code",
      "source": [
        "# Retrieve Best Hyperparameters\n",
        "print(f\"Best Hyperparameters for {model_name.upper()}:\")\n",
        "print(NASNetMobile_best_hps.values)"
      ],
      "metadata": {
        "id": "SyR_3-YWoLPY"
      },
      "execution_count": null,
      "outputs": []
    },
    {
      "cell_type": "code",
      "execution_count": null,
      "metadata": {
        "id": "FGvls3-feaJ_"
      },
      "outputs": [],
      "source": [
        "#### Plot Accuracy and Loss Curves\n",
        "acc = history.history['accuracy']\n",
        "val_acc = history.history['val_accuracy']\n",
        "loss = history.history['loss']\n",
        "val_loss = history.history['val_loss']\n",
        "epochs_range = range(len(acc))\n",
        "\n",
        "plt.figure(figsize=(12,4))\n",
        "plt.subplot(1,2,1)\n",
        "plt.plot(epochs_range, acc, label='Train Acc')\n",
        "plt.plot(epochs_range, val_acc, label='Val Acc')\n",
        "plt.title(f'{model_name} Accuracy')\n",
        "plt.legend()\n",
        "\n",
        "plt.subplot(1,2,2)\n",
        "plt.plot(epochs_range, loss, label='Train Loss')\n",
        "plt.plot(epochs_range, val_loss, label='Val Loss')\n",
        "plt.title(f'{model_name} Loss')\n",
        "plt.legend()\n",
        "plt.tight_layout()\n",
        "plt.show()"
      ]
    },
    {
      "cell_type": "code",
      "source": [
        "# Model Evaluation\n",
        "results = model_evaluation(NASNetMobile_model, results, model_name)"
      ],
      "metadata": {
        "id": "YU1uTZvSoSDQ"
      },
      "execution_count": null,
      "outputs": []
    },
    {
      "cell_type": "code",
      "execution_count": null,
      "metadata": {
        "id": "F0AVDgPosWN5"
      },
      "outputs": [],
      "source": [
        "import pandas as pd\n",
        "\n",
        "# Assuming your results dictionary is named `results`\n",
        "df_results = pd.DataFrame(results).T.reset_index()\n",
        "df_results.columns = ['Model', 'Accuracy', 'Precision', 'Recall', 'F1-Score', 'AUC']\n",
        "\n",
        "df_results = df_results.round(4)\n",
        "\n",
        "print(df_results)"
      ]
    }
  ],
  "metadata": {
    "accelerator": "TPU",
    "colab": {
      "gpuType": "V28",
      "machine_shape": "hm",
      "provenance": [],
      "toc_visible": true
    },
    "kernelspec": {
      "display_name": "Python 3",
      "name": "python3"
    },
    "language_info": {
      "name": "python"
    }
  },
  "nbformat": 4,
  "nbformat_minor": 0
}